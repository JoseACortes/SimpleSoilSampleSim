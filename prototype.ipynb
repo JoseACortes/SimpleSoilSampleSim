{
 "cells": [
  {
   "cell_type": "code",
   "execution_count": 1,
   "metadata": {},
   "outputs": [
    {
     "name": "stderr",
     "output_type": "stream",
     "text": [
      "/home/jac2462@uta.edu/.local/lib/python3.10/site-packages/matplotlib/projections/__init__.py:63: UserWarning: Unable to import Axes3D. This may be due to multiple versions of Matplotlib being installed (e.g. as a system package and as a pip package). As a result, the 3D projection is not available.\n",
      "  warnings.warn(\"Unable to import Axes3D. This may be due to multiple versions of \"\n"
     ]
    }
   ],
   "source": [
    "import numpy as np\n",
    "import matplotlib.pyplot as plt"
   ]
  },
  {
   "cell_type": "code",
   "execution_count": 2,
   "metadata": {},
   "outputs": [],
   "source": [
    "def random_points_in_cylinder(n, radius, height):\n",
    "    \"\"\"\n",
    "    Generate random points within a cylinder.\n",
    "\n",
    "    Parameters:\n",
    "    n (int): Number of random points to generate.\n",
    "    radius (float): Radius of the cylinder.\n",
    "    height (float): Height of the cylinder.\n",
    "\n",
    "    Returns:\n",
    "    numpy.ndarray: An array of shape (n, 3) containing the random points.\n",
    "                   Each point is represented by its (x, y, z) coordinates.\n",
    "    \"\"\"\n",
    "    rs = radius * np.sqrt(np.random.rand(n))\n",
    "    thetas = 2 * np.pi * np.random.rand(n)\n",
    "    zs = height * np.random.rand(n)\n",
    "    return np.column_stack((rs * np.cos(thetas), rs * np.sin(thetas), zs))"
   ]
  },
  {
   "cell_type": "markdown",
   "metadata": {},
   "source": [
    "# concentration functions"
   ]
  },
  {
   "cell_type": "code",
   "execution_count": 3,
   "metadata": {},
   "outputs": [],
   "source": [
    "def box_char_func_np(x, x0, x1, y0, y1, z0, z1):\n",
    "    \"\"\"\n",
    "    Determines if points in a NumPy array are within a specified 3D box.\n",
    "\n",
    "    Parameters:\n",
    "    x (np.ndarray): A 2D NumPy array of shape (n, 3) where each row represents a point in 3D space.\n",
    "    x0 (float): The minimum x-coordinate of the box.\n",
    "    x1 (float): The maximum x-coordinate of the box.\n",
    "    y0 (float): The minimum y-coordinate of the box.\n",
    "    y1 (float): The maximum y-coordinate of the box.\n",
    "    z0 (float): The minimum z-coordinate of the box.\n",
    "    z1 (float): The maximum z-coordinate of the box.\n",
    "\n",
    "    Returns:\n",
    "    np.ndarray: A 1D boolean array of length n where each element is True if the corresponding point is within the box, and False otherwise.\n",
    "    \"\"\"\n",
    "    return np.logical_and.reduce((x[:, 0] >= x0, x[:, 0] <= x1, x[:, 1] >= y0, x[:, 1] <= y1, x[:, 2] >= z0, x[:, 2] <= z1))\n"
   ]
  },
  {
   "cell_type": "code",
   "execution_count": 4,
   "metadata": {},
   "outputs": [],
   "source": [
    "def unif_concentration(x, a):\n",
    "    \"\"\"\n",
    "    Generates a uniform concentration array.\n",
    "\n",
    "    Parameters:\n",
    "    x (numpy.ndarray): An array whose shape will be used to determine the size of the output array.\n",
    "    a (float): The value to fill the output array with.\n",
    "\n",
    "    Returns:\n",
    "    numpy.ndarray: An array of the same length as the first dimension of `x`, filled with the value `a`.\n",
    "    \"\"\"\n",
    "    return np.full(x.shape[0], a)"
   ]
  },
  {
   "cell_type": "code",
   "execution_count": 5,
   "metadata": {},
   "outputs": [],
   "source": [
    "def clip(x, min_val, max_val):\n",
    "    \"\"\"\n",
    "    Clips (limits) the values in an array.\n",
    "\n",
    "    Parameters:\n",
    "    x (numpy.ndarray): The array to clip.\n",
    "    min_val (float): The minimum value to allow in the array.\n",
    "    max_val (float): The maximum value to allow in the array.\n",
    "\n",
    "    Returns:\n",
    "    numpy.ndarray: A new array clipped so that all values are between `min_val` and `max_val`.\n",
    "    \"\"\"\n",
    "    return np.clip(x, min_val, max_val)"
   ]
  },
  {
   "cell_type": "code",
   "execution_count": 6,
   "metadata": {},
   "outputs": [],
   "source": [
    "def vertical_linear_gradient_dist(x, z_0, z_1, c_0, c_1):\n",
    "    \"\"\"\n",
    "    Generates a linear gradient in the vertical direction.\n",
    "\n",
    "    Parameters:\n",
    "    x (numpy.ndarray): A 2D NumPy array of shape (n, 3) where each row represents a point in 3D space.\n",
    "    z_0 (float): The minimum z-coordinate of the gradient.\n",
    "    z_1 (float): The maximum z-coordinate of the gradient.\n",
    "    c_0 (float): The value of the gradient at z=z_0.\n",
    "    c_1 (float): The value of the gradient at z=z_1.\n",
    "\n",
    "    Returns:\n",
    "    numpy.ndarray: An array of length n with the gradient values.\n",
    "    \"\"\"\n",
    "    _ = c_0 + (c_1 - c_0) * (x[:, 2] - z_0) / (z_1 - z_0)\n",
    "    return np.clip(_, c_0, c_1)\n",
    "    return _"
   ]
  },
  {
   "cell_type": "code",
   "execution_count": 7,
   "metadata": {},
   "outputs": [],
   "source": [
    "def radial_linear_gradient_dist(x, r_0, r_1, c_0, c_1):\n",
    "    \"\"\"\n",
    "    Generates a linear gradient in the radial direction.\n",
    "\n",
    "    Parameters:\n",
    "    x (numpy.ndarray): A 2D NumPy array of shape (n, 3) where each row represents a point in 3D space.\n",
    "    r_0 (float): The minimum radial distance of the gradient.\n",
    "    r_1 (float): The maximum radial distance of the gradient.\n",
    "    c_0 (float): The value of the gradient at r=r_0.\n",
    "    c_1 (float): The value of the gradient at r=r_1.\n",
    "\n",
    "    Returns:\n",
    "    numpy.ndarray: An array of length n with the gradient values.\n",
    "    \"\"\"\n",
    "    r = np.linalg.norm(x[:, :2], axis=1)\n",
    "    _ = c_0 + (c_1 - c_0) * (r - r_0) / (r_1 - r_0)\n",
    "    return np.clip(_, c_0, c_1)"
   ]
  },
  {
   "cell_type": "markdown",
   "metadata": {},
   "source": [
    "# Slice inspection"
   ]
  },
  {
   "cell_type": "code",
   "execution_count": 8,
   "metadata": {},
   "outputs": [],
   "source": [
    "def xy_slice_inspect(ax, conc_func, x0, x1, y0, y1, z=.5, n=100, v_min=0, v_max=1):\n",
    "    \"\"\"\n",
    "    Generate and graph a vertical slice of a 3D function.\n",
    "\n",
    "    Parameters:\n",
    "    x0 (float): The minimum x-coordinate of the slice.\n",
    "    x1 (float): The maximum x-coordinate of the slice.\n",
    "    y0 (float): The minimum y-coordinate of the slice.\n",
    "    y1 (float): The maximum y-coordinate of the slice.\n",
    "    z (float): The z-coordinate of the slice.\n",
    "    n (int): The number of points to sample in the x and y directions.\n",
    "\n",
    "    Returns:\n",
    "    numpy.ndarray: A 2D array of shape (n, n) where each element is the value of the function at that point in the slice.\n",
    "    \"\"\"\n",
    "\n",
    "    x = np.linspace(x0, x1, n)\n",
    "    y = np.linspace(y0, y1, n)\n",
    "    xx, yy = np.meshgrid(x, y)\n",
    "    zz = np.full_like(xx, z)\n",
    "    points = np.column_stack((xx.flatten(), yy.flatten(), zz.flatten()))\n",
    "    conc = conc_func(points)\n",
    "    conc = conc.reshape(n, n)\n",
    "\n",
    "    im = ax.contourf(xx, yy, conc, levels=20, cmap='viridis', alpha=0.5, vmin=v_min, vmax=v_max)\n",
    "\n",
    "    ax.set_xlim(x0, x1)\n",
    "    ax.set_ylim(y0, y1)\n",
    "    ax.set_aspect('equal')\n",
    "    \n",
    "    return conc"
   ]
  },
  {
   "cell_type": "code",
   "execution_count": 9,
   "metadata": {},
   "outputs": [],
   "source": [
    "def yz_slice_inspect(ax, conc_func, y0, y1, z0, z1, x=.5, n=100, v_min=0, v_max=1):\n",
    "    \"\"\"\n",
    "    Generate and graph a vertical slice of a 3D function.\n",
    "\n",
    "    Parameters:\n",
    "    y0 (float): The minimum y-coordinate of the slice.\n",
    "    y1 (float): The maximum y-coordinate of the slice.\n",
    "    z0 (float): The minimum z-coordinate of the slice.\n",
    "    z1 (float): The maximum z-coordinate of the slice.\n",
    "    x (float): The x-coordinate of the slice.\n",
    "    n (int): The number of points to sample in the y and z directions.\n",
    "\n",
    "    Returns:\n",
    "    numpy.ndarray: A 2D array of shape (n, n) where each element is the value of the function at that point in the slice.\n",
    "    \"\"\"\n",
    "\n",
    "    y = np.linspace(y0, y1, n)\n",
    "    z = np.linspace(z0, z1, n)\n",
    "    yy, zz = np.meshgrid(y, z)\n",
    "    xx = np.full_like(yy, x)\n",
    "    points = np.column_stack((xx.flatten(), yy.flatten(), zz.flatten()))\n",
    "    conc = conc_func(points)\n",
    "    conc = conc.reshape(n, n)\n",
    "\n",
    "    im = ax.contourf(yy, zz, conc, levels=20, cmap='viridis', alpha=0.5, vmin=v_min, vmax=v_max)\n",
    "\n",
    "    ax.set_xlim(y0, y1)\n",
    "    ax.set_ylim(z0, z1)\n",
    "    ax.set_aspect('equal')\n",
    "    \n",
    "    return conc"
   ]
  },
  {
   "cell_type": "code",
   "execution_count": 10,
   "metadata": {},
   "outputs": [],
   "source": [
    "def xz_slice_inspect(ax, conc_func, x0, x1, z0, z1, y=.5, n=100, v_min=0, v_max=1):\n",
    "    \"\"\"\n",
    "    Generate and graph a vertical slice of a 3D function.\n",
    "\n",
    "    Parameters:\n",
    "    x0 (float): The minimum x-coordinate of the slice.\n",
    "    x1 (float): The maximum x-coordinate of the slice.\n",
    "    z0 (float): The minimum z-coordinate of the slice.\n",
    "    z1 (float): The maximum z-coordinate of the slice.\n",
    "    y (float): The y-coordinate of the slice.\n",
    "    n (int): The number of points to sample in the x and z directions.\n",
    "\n",
    "    Returns:\n",
    "    numpy.ndarray: A 2D array of shape (n, n) where each element is the value of the function at that point in the slice.\n",
    "    \"\"\"\n",
    "\n",
    "    x = np.linspace(x0, x1, n)\n",
    "    z = np.linspace(z0, z1, n)\n",
    "    xx, zz = np.meshgrid(x, z)\n",
    "    yy = np.full_like(xx, y)\n",
    "    points = np.column_stack((xx.flatten(), yy.flatten(), zz.flatten()))\n",
    "    conc = conc_func(points)\n",
    "    conc = conc.reshape(n, n)\n",
    "\n",
    "    im = ax.contourf(xx, zz, conc, levels=20, cmap='viridis', alpha=0.5, vmin=v_min, vmax=v_max)\n",
    "\n",
    "    ax.set_xlim(x0, x1)\n",
    "    ax.set_ylim(z0, z1)\n",
    "    ax.set_aspect('equal')\n",
    "    \n",
    "    return conc"
   ]
  },
  {
   "cell_type": "markdown",
   "metadata": {},
   "source": [
    "# Pick the core points and sample points inside the cylinders"
   ]
  },
  {
   "cell_type": "code",
   "execution_count": 11,
   "metadata": {},
   "outputs": [],
   "source": [
    "def grid_no_corners(n, x0, x1, y0, y1):\n",
    "    \"\"\"\n",
    "    Generate a grid of points with no corners.\n",
    "\n",
    "    Parameters:\n",
    "    n (int): The number of points along each dimension of the grid.\n",
    "\n",
    "    Returns:\n",
    "    numpy.ndarray: An array of shape (n*n, 3) where each row represents a point in 3D space.\n",
    "    \"\"\"\n",
    "    _x = np.linspace(x0, x1, n+2)[1:-1]\n",
    "    _y = np.linspace(y0, y1, n+2)[1:-1]\n",
    "    _xx, _yy = np.meshgrid(_x, _y)\n",
    "    _xx = _xx.flatten()\n",
    "    _yy = _yy.flatten()\n",
    "    _z = np.zeros(len(_xx))\n",
    "    return np.column_stack((_xx, _yy, _z))\n",
    "\n",
    "def cyl_loc_gen(core_locs, vertical_core_slices):\n",
    "    \"\"\"\n",
    "    Generate cylinder locations for each core.\n",
    "\n",
    "    Parameters:\n",
    "    core_locs (numpy.ndarray): An array of shape (n, 3) where each row represents the center of a core.\n",
    "    vertical_core_slices (int): The number of slices in each core.\n",
    "\n",
    "    Returns:\n",
    "    numpy.ndarray: An array of shape (n*vertical_core_slices, 3) where each row represents the top of the cyls in 3D space.\n",
    "    \"\"\"\n",
    "    cyl_locs = np.repeat(core_locs, vertical_core_slices, axis=0)\n",
    "    cyl_locs[:, 2] = np.tile(np.linspace(soil_z0, soil_z1, vertical_core_slices), len(core_locs))\n",
    "    return cyl_locs\n"
   ]
  },
  {
   "cell_type": "code",
   "execution_count": 12,
   "metadata": {},
   "outputs": [],
   "source": [
    "def sample_cyl_locs(cyl_locs, n_samples_per_cyl, core_radius, core_height, vertical_core_slices):\n",
    "    \"\"\"\n",
    "    Generate a grid of points with no corners.\n",
    "\n",
    "    Parameters:\n",
    "    cyl_locs (numpy.ndarray): An array of shape (n, 3) where each row represents the center of a core.\n",
    "    n_samples_per_cyl (int): The number of points to sample in each core.\n",
    "\n",
    "    Returns:\n",
    "    numpy.ndarray: An array of shape (n*n_samples_per_cyl, 3) where each row represents a point in 3D space.\n",
    "    \"\"\"\n",
    "    cyl_points = np.zeros((len(cyl_locs), n_samples_per_cyl, 3))\n",
    "    for i, loc in enumerate(cyl_locs):\n",
    "        cyl_points[i] = random_points_in_cylinder(n_samples_per_cyl, core_radius, core_height/vertical_core_slices) + loc\n",
    "    return cyl_points"
   ]
  },
  {
   "cell_type": "code",
   "execution_count": 13,
   "metadata": {},
   "outputs": [],
   "source": [
    "def cyl_means(cyl_points, conc_func):\n",
    "    \"\"\"\n",
    "    Generate cylinder locations for each core.\n",
    "\n",
    "    Parameters:\n",
    "    cyl_points (numpy.ndarray): An array of shape (n, m, 3) where each row represents the center of a core.\n",
    "\n",
    "    Returns:\n",
    "    numpy.ndarray: An array of shape (n) where each element represents the mean concentration of the core.\n",
    "    \"\"\"\n",
    "    return np.array([np.mean(conc_func(core_points)) for core_points in cyl_points])"
   ]
  },
  {
   "cell_type": "markdown",
   "metadata": {},
   "source": [
    "# Example Use"
   ]
  },
  {
   "cell_type": "code",
   "execution_count": 14,
   "metadata": {},
   "outputs": [],
   "source": [
    "soil_x0 = -1\n",
    "soil_x1 = 1\n",
    "soil_y0 = -1\n",
    "soil_y1 = 1\n",
    "soil_z0 = -2\n",
    "soil_z1 = 0\n",
    "\n",
    "# conc_func = lambda x: 1-radial_linear_gradient_dist(x, 0, 1, 0, .2)\n",
    "conc_func = lambda x: vertical_linear_gradient_dist(x, soil_z0, soil_z1, 0, 1)\n",
    "# conc_func = lambda x: unif_concentration(x, .2)\n",
    "\n",
    "v_min = 0 # Minimum value for the concentration for plotting\n",
    "v_max = 1 # Maximum value for the concentration for plotting"
   ]
  },
  {
   "cell_type": "code",
   "execution_count": 15,
   "metadata": {},
   "outputs": [
    {
     "data": {
      "image/png": "[encoded data removed]",
      "text/plain": [
       "<Figure size 640x480 with 6 Axes>"
      ]
     },
     "metadata": {},
     "output_type": "display_data"
    }
   ],
   "source": [
    "fig = plt.figure()\n",
    "axs = [fig.add_subplot(131), fig.add_subplot(132), fig.add_subplot(133)]\n",
    "xy_conc = xy_slice_inspect(axs[0], conc_func, soil_x0, soil_x1, soil_y0, soil_y1, soil_z1, 100, v_min, v_max)\n",
    "yz_conc = yz_slice_inspect(axs[1], conc_func, soil_y0, soil_y1, soil_z0, soil_z1, 0, 100, v_min, v_max)\n",
    "xz_conc = xz_slice_inspect(axs[2], conc_func, soil_x0, soil_x1, soil_z0, soil_z1, 0, 100, v_min, v_max)\n",
    "\n",
    "for ax in axs:\n",
    "    fig.colorbar(ax.collections[0], ax=ax, fraction=0.046, pad=0.04)\n",
    "plt.tight_layout()\n",
    "\n",
    "plt.show()"
   ]
  },
  {
   "cell_type": "code",
   "execution_count": 20,
   "metadata": {},
   "outputs": [],
   "source": [
    "core_height = 1\n",
    "core_radius = .05\n",
    "vertical_core_slices = 5\n",
    "\n",
    "core_locs = grid_no_corners(4, soil_x0, soil_x1, soil_y0, soil_y1)\n",
    "cyl_locs = cyl_loc_gen(core_locs, vertical_core_slices)"
   ]
  },
  {
   "cell_type": "code",
   "execution_count": 21,
   "metadata": {},
   "outputs": [
    {
     "data": {
      "image/png": "[encoded data removed]",
      "text/plain": [
       "<Figure size 640x480 with 1 Axes>"
      ]
     },
     "metadata": {},
     "output_type": "display_data"
    }
   ],
   "source": [
    "fig = plt.figure()\n",
    "ax = fig.add_subplot(111)\n",
    "plt.fill_between([soil_x0, soil_x1], soil_y0, soil_y1, color='brown', alpha=0.5)\n",
    "for _x, _y in core_locs[:, :2]:\n",
    "    circle = plt.Circle((_x, _y), core_radius, color='blue', alpha=0.5)\n",
    "    ax.add_artist(circle)\n",
    "ax.set_xlim(-1, 1)\n",
    "ax.set_ylim(-1, 1)\n",
    "ax.set_aspect('equal')\n",
    "plt.show()"
   ]
  },
  {
   "cell_type": "code",
   "execution_count": 22,
   "metadata": {},
   "outputs": [],
   "source": [
    "cyl_points = sample_cyl_locs(cyl_locs, 1000, core_radius, core_height, vertical_core_slices)\n",
    "cyl_m = cyl_means(cyl_points, conc_func)\n",
    "\n",
    "from scipy.interpolate import Rbf\n",
    "rbf = Rbf(cyl_locs[:, 0], cyl_locs[:, 1], cyl_locs[:, 2], cyl_m, function='linear')"
   ]
  },
  {
   "cell_type": "code",
   "execution_count": 23,
   "metadata": {},
   "outputs": [
    {
     "data": {
      "image/png": "[encoded data removed]",
      "text/plain": [
       "<Figure size 640x480 with 6 Axes>"
      ]
     },
     "metadata": {},
     "output_type": "display_data"
    }
   ],
   "source": [
    "interp_conc_func = lambda x: rbf(x[:, 0], x[:, 1], x[:, 2])\n",
    "resolution = 100\n",
    "\n",
    "fig = plt.figure()\n",
    "axs = [fig.add_subplot(131), fig.add_subplot(132), fig.add_subplot(133)]\n",
    "xy_conc = xy_slice_inspect(axs[0], interp_conc_func, soil_x0, soil_x1, soil_y0, soil_y1, 0, resolution, v_min, v_max)\n",
    "yz_conc = yz_slice_inspect(axs[1], interp_conc_func, soil_y0, soil_y1, soil_z0, soil_z1, 0, resolution, v_min, v_max)\n",
    "xz_conc = xz_slice_inspect(axs[2], interp_conc_func, soil_x0, soil_x1, soil_z0, soil_z1, 0, resolution, v_min, v_max)\n",
    "for ax in axs:\n",
    "    fig.colorbar(ax.collections[0], ax=ax, fraction=0.046, pad=0.04)\n",
    "plt.tight_layout()\n",
    "plt.show()"
   ]
  },
  {
   "cell_type": "code",
   "execution_count": null,
   "metadata": {},
   "outputs": [],
   "source": []
  }
 ],
 "metadata": {
  "kernelspec": {
   "display_name": "Python 3",
   "language": "python",
   "name": "python3"
  },
  "language_info": {
   "codemirror_mode": {
    "name": "ipython",
    "version": 3
   },
   "file_extension": ".py",
   "mimetype": "text/x-python",
   "name": "python",
   "nbconvert_exporter": "python",
   "pygments_lexer": "ipython3",
   "version": "3.10.12"
  }
 },
 "nbformat": 4,
 "nbformat_minor": 2
}
